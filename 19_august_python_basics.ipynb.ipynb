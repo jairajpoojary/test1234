{
 "cells": [
  {
   "cell_type": "code",
   "execution_count": 3,
   "id": "7cafd8f7-bc12-4e89-be16-1391d48baad9",
   "metadata": {},
   "outputs": [
    {
     "name": "stdout",
     "output_type": "stream",
     "text": [
      "Before swap x: 15 and y: 12\n",
      "After swap x: 12 and y: 15\n"
     ]
    }
   ],
   "source": [
    "# Declare two variables, x and y, and assign them integer values. Swap the values of these variables without using any temporary variable.\n",
    "# first assign a to number with respect to variables\n",
    "x = 15\n",
    "y = 12\n",
    "#now lets swap the number\n",
    "def swap_variables(x,y):\n",
    "  print(f\"Before swap x: {x} and y: {y}\")\n",
    "  x,y = y, x\n",
    "  print(f\"After swap x: {x} and y: {y}\")\n",
    "\n",
    "swap_variables(x,y)"
   ]
  },
  {
   "cell_type": "code",
   "execution_count": 4,
   "id": "a7722bf4-5d75-4853-8962-671ce25af2d0",
   "metadata": {},
   "outputs": [
    {
     "name": "stdin",
     "output_type": "stream",
     "text": [
      "Enter the length of the rectangle:  10\n",
      "Enter the width of the rectangle:  12\n"
     ]
    },
    {
     "name": "stdout",
     "output_type": "stream",
     "text": [
      "The area of the rectangle is: 120.0\n"
     ]
    }
   ],
   "source": [
    "#2. Create a program that calculates the area of a rectangle. Take the length and width as inputs from the user and store them in variables. Calculate and display the area.\n",
    "# take  input from the user for length and width\n",
    "length = float(input(\"Enter the length of the rectangle: \")) \n",
    "width = float(input(\"Enter the width of the rectangle: \"))   \n",
    "\n",
    "# formula to find area = length * width\n",
    "area = length * width\n",
    "\n",
    "#  Display the calculated area \n",
    "print(\"The area of the rectangle is:\", area) "
   ]
  },
  {
   "cell_type": "code",
   "execution_count": 5,
   "id": "5a4f9edc-fbd7-4afe-a97d-12b79dabd3a8",
   "metadata": {},
   "outputs": [
    {
     "name": "stdin",
     "output_type": "stream",
     "text": [
      "Enter temperature in Celsius:  30\n"
     ]
    },
    {
     "name": "stdout",
     "output_type": "stream",
     "text": [
      "30.0 Celsius is equal to 86.00 Fahrenheit\n"
     ]
    }
   ],
   "source": [
    "#3. Write a Python program that converts temperatures from Celsius to Fahrenheit. Take the temperature in Celsius as input, store it in a variable, convert it to Fahrenheit, and display the result.\n",
    "#Get the temperature in Celsius from the user:\n",
    "celsius_temperature = float(input(\"Enter temperature in Celsius: \"))\n",
    "\n",
    "# Convert Celsius to Fahrenheit using the formula: (C*9/5)+32\n",
    "fahrenheit_temperature = (celsius_temperature*9/5)+32\n",
    "\n",
    "# Displaying the converted temperature in Fahrenheit\n",
    "print(f\"{celsius_temperature} Celsius is equal to {fahrenheit_temperature:.2f} Fahrenheit\")"
   ]
  },
  {
   "cell_type": "code",
   "execution_count": 6,
   "id": "66b7601d-06f5-469c-92c9-8bd0582d7e5b",
   "metadata": {},
   "outputs": [
    {
     "name": "stdin",
     "output_type": "stream",
     "text": [
      "Enter a string:  physicswallah\n"
     ]
    },
    {
     "name": "stdout",
     "output_type": "stream",
     "text": [
      "The length of the input string is: 13\n"
     ]
    }
   ],
   "source": [
    "#string based questions\n",
    "#1. Write a Python program that takes a string as input and prints the length of the string\n",
    "#  Get input from the user:\n",
    "input_string = input(\"Enter a string: \")\n",
    "\n",
    "# Calculate the length of the input string using the built-in len() function\n",
    "string_length = len(input_string)\n",
    "\n",
    "#Print the length of the string\n",
    "print(\"The length of the input string is:\", string_length)"
   ]
  },
  {
   "cell_type": "code",
   "execution_count": 7,
   "id": "cf9a9238-d520-4b22-948f-5f76e0fda7ff",
   "metadata": {},
   "outputs": [
    {
     "name": "stdin",
     "output_type": "stream",
     "text": [
      "Enter a sentence:  my name is jai\n"
     ]
    },
    {
     "name": "stdout",
     "output_type": "stream",
     "text": [
      "Number of vowels in a sentence : 5\n"
     ]
    }
   ],
   "source": [
    "#2.Create a program that takes a sentence from the user and counts the number of vowels (a, e, i, o, u) in the string.\n",
    "#Get input from the user\n",
    "sentence = input(\"Enter a sentence: \")\n",
    "\n",
    "#  Initialize a variable to count the vowels\n",
    "vowel_count = 0\n",
    "\n",
    "# Iterate through each character in the sentence\n",
    "for char in sentence:\n",
    "    #Convert the character to lowercase to handle both uppercase and lowercase vowels\n",
    "    char_lower = char.lower()\n",
    "\n",
    "    # Check if the character is a vowel (a, e, i, o, u)\n",
    "    if char_lower in \"aeiou\":\n",
    "        #If the character is a vowel, increment the vowel_count variable\n",
    "        vowel_count += 1\n",
    "\n",
    "# Display the result\n",
    "print(\"Number of vowels in a sentence :\", vowel_count)"
   ]
  },
  {
   "cell_type": "code",
   "execution_count": 8,
   "id": "3e5af84e-dfc5-45c3-bcbf-17fdd2befb58",
   "metadata": {},
   "outputs": [
    {
     "name": "stdin",
     "output_type": "stream",
     "text": [
      "Enter a string:  hello\n"
     ]
    },
    {
     "name": "stdout",
     "output_type": "stream",
     "text": [
      "Reversed string: olleh\n"
     ]
    }
   ],
   "source": [
    "#3. Given a string, reverse the order of characters using string slicing and print the reversed string.\n",
    "# Get the input string from the user\n",
    "input_string = input(\"Enter a string: \")\n",
    "# Here, we start from the end of the string, move backward with step -1, and stop at the beginning.\n",
    "reversed_string = input_string[::-1]\n",
    "\n",
    "# lets Print the reversed string\n",
    "print(\"Reversed string:\", reversed_string)"
   ]
  },
  {
   "cell_type": "code",
   "execution_count": 9,
   "id": "1990e003-5e5e-4369-aa1b-26eedb2d433c",
   "metadata": {},
   "outputs": [
    {
     "name": "stdin",
     "output_type": "stream",
     "text": [
      "Enter a string:  madam\n"
     ]
    },
    {
     "name": "stdout",
     "output_type": "stream",
     "text": [
      "The input string is a palindrome.\n"
     ]
    }
   ],
   "source": [
    "#4. Write a program that takes a string as input and checks if it is a palindrome (reads the same forwards and backwards).\n",
    "#  Get input from the user\n",
    "input_string = input(\"Enter a string: \")\n",
    "\n",
    "#  Remove spaces and convert the input string to lowercase\n",
    "cleaned_string = input_string.replace(\" \", \"\").lower()\n",
    "\n",
    "# slicing\n",
    "reversed_string = cleaned_string[::-1]\n",
    "#lets apply conditional statment:\n",
    "if cleaned_string == reversed_string:\n",
    "    print(\"The input string is a palindrome.\")\n",
    "else:\n",
    "    print(\"The input string is not a palindrome.\")"
   ]
  },
  {
   "cell_type": "code",
   "execution_count": 14,
   "id": "d5ac6f4a-8c23-4422-b33c-efa7777b452f",
   "metadata": {},
   "outputs": [
    {
     "name": "stdin",
     "output_type": "stream",
     "text": [
      "Enter a string:  h e l l o\n"
     ]
    },
    {
     "name": "stdout",
     "output_type": "stream",
     "text": [
      "Modified string without spaces: hello\n"
     ]
    }
   ],
   "source": [
    "#5. Create a program that takes a string as input and removes all the spaces from it. Print the modified string without spaces.\n",
    "#Take input from the user\n",
    "input_string = input(\"Enter a string: \")\n",
    "\n",
    "# Initialize an empty string to store the modified string without spaces\n",
    "modified_string = \"\"\n",
    "\n",
    "# Iterate through each character in the input string\n",
    "for char in input_string:\n",
    "    if char != \" \":\n",
    "        modified_string += char\n",
    "\n",
    "#Print the modified string without spaces\n",
    "print(\"Modified string without spaces:\", modified_string)"
   ]
  },
  {
   "cell_type": "code",
   "execution_count": null,
   "id": "8813100a-7261-452b-8160-0a632a98c6a9",
   "metadata": {},
   "outputs": [],
   "source": []
  }
 ],
 "metadata": {
  "kernelspec": {
   "display_name": "Python 3 (ipykernel)",
   "language": "python",
   "name": "python3"
  },
  "language_info": {
   "codemirror_mode": {
    "name": "ipython",
    "version": 3
   },
   "file_extension": ".py",
   "mimetype": "text/x-python",
   "name": "python",
   "nbconvert_exporter": "python",
   "pygments_lexer": "ipython3",
   "version": "3.10.8"
  }
 },
 "nbformat": 4,
 "nbformat_minor": 5
}
